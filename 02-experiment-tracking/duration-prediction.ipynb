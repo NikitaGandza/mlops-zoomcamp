{
 "cells": [
  {
   "cell_type": "code",
   "execution_count": 6,
   "id": "a5acb183-40f1-4e85-b148-80c0a810fb76",
   "metadata": {},
   "outputs": [],
   "source": [
    "import pandas as pd\n",
    "import seaborn as sns\n",
    "import matplotlib.pyplot as plt\n",
    "from sklearn.feature_extraction import DictVectorizer\n",
    "from sklearn.linear_model import LinearRegression\n",
    "from sklearn.linear_model import Lasso\n",
    "\n",
    "from sklearn.metrics import mean_squared_error\n",
    "from sklearn.metrics import root_mean_squared_error\n",
    "\n",
    "import pickle"
   ]
  },
  {
   "cell_type": "code",
   "execution_count": 7,
   "id": "cfdfba1e-04a6-4eb6-83a4-ed43c1fc2972",
   "metadata": {},
   "outputs": [
    {
     "data": {
      "text/plain": [
       "<Experiment: artifact_location='/Users/nikitagandza/Desktop/pycharm_projects/mlops-zoomcamp/02-experiment-tracking/mlruns/1', creation_time=1748290712537, experiment_id='1', last_update_time=1748290712537, lifecycle_stage='active', name='nyc-taxi-experiment', tags={}>"
      ]
     },
     "execution_count": 7,
     "metadata": {},
     "output_type": "execute_result"
    }
   ],
   "source": [
    "import mlflow\n",
    "mlflow.set_tracking_uri('sqlite:///mlflow.db')\n",
    "mlflow.set_experiment('nyc-taxi-experiment')"
   ]
  },
  {
   "cell_type": "code",
   "execution_count": 18,
   "id": "355ba1aa-54ef-49e1-a43c-fdd219807989",
   "metadata": {},
   "outputs": [],
   "source": [
    "import xgboost as xgb\n",
    "\n",
    "from hyperopt import fmin, tpe, STATUS_OK, Trials, hp\n",
    "from hyperopt.pyll import scope"
   ]
  },
  {
   "cell_type": "code",
   "execution_count": 8,
   "id": "4814fa27-63b3-4214-a0bb-74aa3881646a",
   "metadata": {},
   "outputs": [],
   "source": [
    "# create a function to read and preprocess\n",
    "def read_dataframe(filename):\n",
    "    df = pd.read_parquet(filename)\n",
    "    \n",
    "    df.lpep_pickup_datetime = pd.to_datetime(df.lpep_pickup_datetime)\n",
    "    df.lpep_dropoff_datetime = pd.to_datetime(df.lpep_dropoff_datetime)\n",
    "\n",
    "    df['duration'] = df.lpep_dropoff_datetime - df.lpep_pickup_datetime\n",
    "    df['duration'] = df.duration.apply(lambda td: td.total_seconds() / 60)\n",
    "\n",
    "    df = df[(df.duration >= 1) & (df.duration <= 60)]\n",
    "\n",
    "    categorical = ['PULocationID', 'DOLocationID']\n",
    "    df[categorical] = df[categorical].astype(str)\n",
    "\n",
    "    return df"
   ]
  },
  {
   "cell_type": "code",
   "execution_count": 9,
   "id": "04c5492a-f55b-46aa-87de-b43eef7b2faa",
   "metadata": {},
   "outputs": [],
   "source": [
    "# create a training pipeline\n",
    "def training(df):\n",
    "    train_dicts = df[categorical + numerical].to_dict(orient='records')\n",
    "\n",
    "    dv = DictVectorizer()\n",
    "    X_train = dv.fit_transform(train_dicts)\n",
    "\n",
    "    target = 'duration'\n",
    "    y_train = df[target].values\n",
    "\n",
    "    lr = LinearRegression()\n",
    "    lr.fit(X_train, y_train)\n",
    "\n",
    "    y_pred = lr.predict(X_train)"
   ]
  },
  {
   "cell_type": "code",
   "execution_count": 10,
   "id": "ef1d3652-1dad-4db5-93ec-9d9e6bcb75a1",
   "metadata": {},
   "outputs": [],
   "source": [
    "df_train = read_dataframe('data/green_tripdata_2021-01.parquet')\n",
    "df_val = read_dataframe('data/green_tripdata_2021-02.parquet')"
   ]
  },
  {
   "cell_type": "code",
   "execution_count": 11,
   "id": "ac6c98a9-9336-4044-8655-77ed81cf1db9",
   "metadata": {},
   "outputs": [
    {
     "data": {
      "text/plain": [
       "(73908, 61921)"
      ]
     },
     "execution_count": 11,
     "metadata": {},
     "output_type": "execute_result"
    }
   ],
   "source": [
    "len(df_train), len(df_val)"
   ]
  },
  {
   "cell_type": "code",
   "execution_count": 12,
   "id": "ac1e7a67-086f-4b87-9a95-cb13bc3aa664",
   "metadata": {},
   "outputs": [],
   "source": [
    "df_train['PU_DO'] = df_train['PULocationID'] + '_' + df_train['DOLocationID']\n",
    "df_val['PU_DO'] = df_val['PULocationID'] + '_' + df_val['DOLocationID']"
   ]
  },
  {
   "cell_type": "code",
   "execution_count": 13,
   "id": "f0f7eaeb-c49a-429e-8fa5-b5783e9f4314",
   "metadata": {},
   "outputs": [],
   "source": [
    "categorical = ['PU_DO']\n",
    "numerical = ['trip_distance']\n",
    "\n",
    "dv = DictVectorizer()\n",
    "\n",
    "train_dicts = df_train[categorical + numerical].to_dict(orient='records')\n",
    "X_train = dv.fit_transform(train_dicts)\n",
    "\n",
    "val_dicts = df_val[categorical + numerical].to_dict(orient='records')\n",
    "X_val = dv.transform(val_dicts)"
   ]
  },
  {
   "cell_type": "code",
   "execution_count": 14,
   "id": "bb3b6f5e-b815-491e-bdef-693bb0298512",
   "metadata": {},
   "outputs": [],
   "source": [
    "target = 'duration'\n",
    "y_train = df_train[target].values\n",
    "y_val = df_val[target].values"
   ]
  },
  {
   "cell_type": "code",
   "execution_count": 10,
   "id": "030e8700-2791-45cb-b7a6-0f53a03441b1",
   "metadata": {},
   "outputs": [
    {
     "data": {
      "text/plain": [
       "7.758715209663881"
      ]
     },
     "execution_count": 10,
     "metadata": {},
     "output_type": "execute_result"
    }
   ],
   "source": [
    "lr = LinearRegression()\n",
    "lr.fit(X_train, y_train)\n",
    "\n",
    "y_pred = lr.predict(X_val)\n",
    "\n",
    "root_mean_squared_error(y_val, y_pred)"
   ]
  },
  {
   "cell_type": "code",
   "execution_count": 11,
   "id": "61543029-9ed3-4b3c-a2b8-3e183448f3a1",
   "metadata": {},
   "outputs": [],
   "source": [
    "with open('models/lin_reg.bin', 'wb') as f_out:\n",
    "    pickle.dump((dv, lr), f_out)"
   ]
  },
  {
   "cell_type": "code",
   "execution_count": 15,
   "id": "4be8237e-8edc-4854-8684-978fc6729180",
   "metadata": {},
   "outputs": [],
   "source": [
    "with mlflow.start_run():\n",
    "    mlflow.set_tag('developer', 'nikita')\n",
    "\n",
    "    mlflow.log_param('train-data-path', 'data/green_tripdata_2021-01.parquet')\n",
    "    mlflow.log_param('valid-data-path', 'data/green_tripdata_2021-02.parquet')\n",
    "    \n",
    "    alpha = 0.001\n",
    "    mlflow.log_param('alpha', alpha)\n",
    "    \n",
    "    lr = Lasso(alpha)\n",
    "    lr.fit(X_train, y_train)\n",
    "    \n",
    "    y_pred = lr.predict(X_val)\n",
    "    \n",
    "    rmse = root_mean_squared_error(y_val, y_pred)\n",
    "    mlflow.log_metric('rmse', rmse)"
   ]
  },
  {
   "cell_type": "code",
   "execution_count": 20,
   "id": "bbf1fa02-daea-4066-a44e-cb21f0d61096",
   "metadata": {},
   "outputs": [],
   "source": [
    "train = xgb.DMatrix(X_train, label=y_train)\n",
    "valid = xgb.DMatrix(X_val, label=y_val)"
   ]
  },
  {
   "cell_type": "code",
   "execution_count": 21,
   "id": "64c70ece-34fe-4836-b3df-0442530c1e20",
   "metadata": {},
   "outputs": [],
   "source": [
    "def objective(params):\n",
    "    with mlflow.start_run():\n",
    "        mlflow.set_tag('model', 'xgboost')\n",
    "        mlflow.log_params(params)\n",
    "        booster = xgb.train(\n",
    "            params=params,\n",
    "            dtrain=train,\n",
    "            num_boost_round=1000,\n",
    "            evals=[(valid, \"validation\")],\n",
    "            early_stopping_rounds=50\n",
    "        )\n",
    "        y_pred = booster.predict(valid)\n",
    "        rmse = root_mean_squared_error(y_val, y_pred)\n",
    "        mlflow.log_metric('rmse', rmse)\n",
    "    return {'loss': rmse, 'status': STATUS_OK}"
   ]
  },
  {
   "cell_type": "code",
   "execution_count": null,
   "id": "b255ec48-0359-484b-80a6-58b5d7c3d0d5",
   "metadata": {},
   "outputs": [
    {
     "name": "stdout",
     "output_type": "stream",
     "text": [
      "  0%|                                                                                                                                                                                           | 0/50 [00:00<?, ?trial/s, best loss=?]"
     ]
    },
    {
     "name": "stderr",
     "output_type": "stream",
     "text": [
      "/Users/nikitagandza/Library/Python/3.9/lib/python/site-packages/xgboost/core.py:158: UserWarning: [11:19:26] WARNING: /Users/runner/work/xgboost/xgboost/src/objective/regression_obj.cu:227: reg:linear is now deprecated in favor of reg:squarederror.\n",
      "  warnings.warn(smsg, UserWarning)\n",
      "\n"
     ]
    },
    {
     "name": "stdout",
     "output_type": "stream",
     "text": [
      "[0]\tvalidation-rmse:11.60417                                                                                                                                                                                                           \n",
      "[1]\tvalidation-rmse:11.05525                                                                                                                                                                                                           \n",
      "[2]\tvalidation-rmse:10.56095                                                                                                                                                                                                           \n",
      "[3]\tvalidation-rmse:10.11682                                                                                                                                                                                                           \n",
      "[4]\tvalidation-rmse:9.71908                                                                                                                                                                                                            \n",
      "[5]\tvalidation-rmse:9.36284                                                                                                                                                                                                            \n",
      "[6]\tvalidation-rmse:9.04466                                                                                                                                                                                                            \n",
      "[7]\tvalidation-rmse:8.76178                                                                                                                                                                                                            \n",
      "[8]\tvalidation-rmse:8.51082                                                                                                                                                                                                            \n",
      "[9]\tvalidation-rmse:8.28763                                                                                                                                                                                                            \n",
      "[10]\tvalidation-rmse:8.09077                                                                                                                                                                                                           \n",
      "[11]\tvalidation-rmse:7.91565                                                                                                                                                                                                           \n",
      "[12]\tvalidation-rmse:7.76103                                                                                                                                                                                                           \n",
      "[13]\tvalidation-rmse:7.62468                                                                                                                                                                                                           \n",
      "[14]\tvalidation-rmse:7.50507                                                                                                                                                                                                           \n",
      "[15]\tvalidation-rmse:7.40032                                                                                                                                                                                                           \n",
      "[16]\tvalidation-rmse:7.30680                                                                                                                                                                                                           \n",
      "[17]\tvalidation-rmse:7.22460                                                                                                                                                                                                           \n",
      "[18]\tvalidation-rmse:7.15198                                                                                                                                                                                                           \n",
      "[19]\tvalidation-rmse:7.08751                                                                                                                                                                                                           \n",
      "[20]\tvalidation-rmse:7.03112                                                                                                                                                                                                           \n",
      "[21]\tvalidation-rmse:6.98098                                                                                                                                                                                                           \n",
      "[22]\tvalidation-rmse:6.93661                                                                                                                                                                                                           \n",
      "[23]\tvalidation-rmse:6.89816                                                                                                                                                                                                           \n",
      "[24]\tvalidation-rmse:6.86356                                                                                                                                                                                                           \n",
      "[25]\tvalidation-rmse:6.83298                                                                                                                                                                                                           \n",
      "[26]\tvalidation-rmse:6.80564                                                                                                                                                                                                           \n",
      "[27]\tvalidation-rmse:6.78110                                                                                                                                                                                                           \n",
      "[28]\tvalidation-rmse:6.75833                                                                                                                                                                                                           \n",
      "[29]\tvalidation-rmse:6.73812                                                                                                                                                                                                           \n",
      "[30]\tvalidation-rmse:6.72031                                                                                                                                                                                                           \n",
      "[31]\tvalidation-rmse:6.70367                                                                                                                                                                                                           \n",
      "[32]\tvalidation-rmse:6.68923                                                                                                                                                                                                           \n",
      "  0%|                                                                                                                                                                                           | 0/50 [00:30<?, ?trial/s, best loss=?]"
     ]
    }
   ],
   "source": [
    "search_space = {\n",
    "    'max_depth': scope.int(hp.quniform('max_depth', 4, 100, 1)),\n",
    "    'learning_rate': hp.loguniform('learning_rate', -3, 0),\n",
    "    'reg_alpha': hp.loguniform('reg_alpha', -5, -1),\n",
    "    'reg_lambda': hp.loguniform('reg_lambda', -6, -1),\n",
    "    'min_child_weight': hp.loguniform('min_child_weight', -1, 3),\n",
    "    'objective': 'reg:linear',\n",
    "    'seed': 42\n",
    "}\n",
    "\n",
    "best_result = fmin(\n",
    "    fn=objective,\n",
    "    space=search_space,\n",
    "    algo=tpe.suggest,\n",
    "    max_evals=50,\n",
    "    trials=Trials()\n",
    ")"
   ]
  },
  {
   "cell_type": "code",
   "execution_count": null,
   "id": "488f4f93-372b-4c6a-b4e3-c50429024373",
   "metadata": {},
   "outputs": [],
   "source": []
  }
 ],
 "metadata": {
  "kernelspec": {
   "display_name": "Python 3 (ipykernel)",
   "language": "python",
   "name": "python3"
  },
  "language_info": {
   "codemirror_mode": {
    "name": "ipython",
    "version": 3
   },
   "file_extension": ".py",
   "mimetype": "text/x-python",
   "name": "python",
   "nbconvert_exporter": "python",
   "pygments_lexer": "ipython3",
   "version": "3.9.6"
  }
 },
 "nbformat": 4,
 "nbformat_minor": 5
}
